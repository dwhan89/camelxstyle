{
 "cells": [
  {
   "cell_type": "code",
   "execution_count": 14,
   "id": "acb889ba-fc15-4767-9f21-40c5b1c65bff",
   "metadata": {},
   "outputs": [
    {
     "name": "stdout",
     "output_type": "stream",
     "text": [
      "The autoreload extension is already loaded. To reload it, use:\n",
      "  %reload_ext autoreload\n"
     ]
    }
   ],
   "source": [
    "import torch, torch.nn as nn\n",
    "from kymatio.torch import Scattering2D\n",
    "from toolbox import io as tio\n",
    "import json\n",
    "\n",
    "%matplotlib inline\n",
    "%load_ext autoreload\n",
    "%autoreload 2"
   ]
  },
  {
   "cell_type": "code",
   "execution_count": 23,
   "id": "325fcfc1-c638-4a05-bcb4-b1f2f4a5f65c",
   "metadata": {},
   "outputs": [
    {
     "name": "stdout",
     "output_type": "stream",
     "text": [
      "True Tesla P100-PCIE-16GB\n"
     ]
    },
    {
     "data": {
      "text/plain": [
       "{'platform': 'Linux',\n",
       " 'platform-release': '4.12.14-122.121-default',\n",
       " 'platform-version': '#1 SMP Wed May 4 10:35:25 UTC 2022 (a686fdb)',\n",
       " 'architecture': 'x86_64',\n",
       " 'hostname': 'pascal01',\n",
       " 'ip-address': '10.127.0.31',\n",
       " 'mac-address': 'ac:1f:6b:40:a1:d2',\n",
       " 'processor': 'x86_64',\n",
       " 'ram': '377 GB'}"
      ]
     },
     "execution_count": 23,
     "metadata": {},
     "output_type": "execute_result"
    }
   ],
   "source": [
    "print(torch.cuda.is_available(), torch.cuda.get_device_name(0))\n",
    "json.loads(tio.get_system_info())"
   ]
  },
  {
   "cell_type": "code",
   "execution_count": null,
   "id": "ebd3112f-5835-4483-9e51-c11392f5abb8",
   "metadata": {},
   "outputs": [],
   "source": []
  }
 ],
 "metadata": {
  "kernelspec": {
   "display_name": "Python 3",
   "language": "python",
   "name": "python3"
  },
  "language_info": {
   "codemirror_mode": {
    "name": "ipython",
    "version": 3
   },
   "file_extension": ".py",
   "mimetype": "text/x-python",
   "name": "python",
   "nbconvert_exporter": "python",
   "pygments_lexer": "ipython3",
   "version": "3.9.5"
  }
 },
 "nbformat": 4,
 "nbformat_minor": 5
}
